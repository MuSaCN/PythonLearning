{
 "cells": [
  {
   "cell_type": "code",
   "execution_count": 1,
   "outputs": [],
   "source": [
    "# Author:Zhang Yuan\n",
    "from MyPackage import *\n",
    "import numpy as np\n",
    "import pandas as pd\n",
    "import matplotlib.pyplot as plt\n",
    "import matplotlib.patches as patches\n",
    "import seaborn as sns\n",
    "import statsmodels.api as sm\n",
    "from scipy import stats\n",
    "\n",
    "# ------------------------------------------------------------\n",
    "__mypath__ = MyPath.MyClass_Path(\"\")  # 路径类\n",
    "mylogging = MyDefault.MyClass_Default_Logging(activate=False)  # 日志记录类，需要放在上面才行\n",
    "myfile = MyFile.MyClass_File()  # 文件操作类\n",
    "myword = MyFile.MyClass_Word()  # word生成类\n",
    "myexcel = MyFile.MyClass_Excel()  # excel生成类\n",
    "myini = MyFile.MyClass_INI()  # ini文件操作类\n",
    "mytime = MyTime.MyClass_Time()  # 时间类\n",
    "myparallel = MyTools.MyClass_ParallelCal()  # 并行运算类\n",
    "myplt = MyPlot.MyClass_Plot()  # 直接绘图类(单个图窗)\n",
    "mypltpro = MyPlot.MyClass_PlotPro()  # Plot高级图系列\n",
    "myfig = MyPlot.MyClass_Figure(AddFigure=False)  # 对象式绘图类(可多个图窗)\n",
    "myfigpro = MyPlot.MyClass_FigurePro(AddFigure=False)  # Figure高级图系列\n",
    "mynp = MyArray.MyClass_NumPy()  # 多维数组类(整合Numpy)\n",
    "mypd = MyArray.MyClass_Pandas()  # 矩阵数组类(整合Pandas)\n",
    "mypdpro = MyArray.MyClass_PandasPro()  # 高级矩阵数组类\n",
    "myDA = MyDataAnalysis.MyClass_DataAnalysis()  # 数据分析类\n",
    "myDefault = MyDefault.MyClass_Default_Matplotlib()  # 画图恢复默认设置类\n",
    "# myMql = MyMql.MyClass_MqlBackups() # Mql备份类\n",
    "# myBaidu = MyWebCrawler.MyClass_BaiduPan() # Baidu网盘交互类\n",
    "# myImage = MyImage.MyClass_ImageProcess()  # 图片处理类\n",
    "myBT = MyBackTest.MyClass_BackTestEvent()  # 事件驱动型回测类\n",
    "myBTV = MyBackTest.MyClass_BackTestVector()  # 向量型回测类\n",
    "myML = MyMachineLearning.MyClass_MachineLearning()  # 机器学习综合类\n",
    "mySQL = MyDataBase.MyClass_MySQL(connect=False)  # MySQL类\n",
    "mySQLAPP = MyDataBase.MyClass_SQL_APPIntegration()  # 数据库应用整合\n",
    "myWebQD = MyWebCrawler.MyClass_QuotesDownload(tushare=False)  # 金融行情下载类\n",
    "myWebR = MyWebCrawler.MyClass_Requests()  # Requests爬虫类\n",
    "myWebS = MyWebCrawler.MyClass_Selenium(openChrome=False)  # Selenium模拟浏览器类\n",
    "myWebAPP = MyWebCrawler.MyClass_Web_APPIntegration()  # 爬虫整合应用类\n",
    "myEmail = MyWebCrawler.MyClass_Email()  # 邮箱交互类\n",
    "myReportA = MyQuant.MyClass_ReportAnalysis()  # 研报分析类\n",
    "myFactorD = MyQuant.MyClass_Factor_Detection()  # 因子检测类\n",
    "myKeras = MyDeepLearning.MyClass_tfKeras()  # tfKeras综合类\n",
    "myTensor = MyDeepLearning.MyClass_TensorFlow()  # Tensorflow综合类\n",
    "myMT5 = MyMql.MyClass_ConnectMT5(connect=False)  # Python链接MetaTrader5客户端类\n",
    "myMT5Pro = MyMql.MyClass_ConnectMT5Pro(connect=False)  # Python链接MT5高级类\n",
    "myMT5Indi = MyMql.MyClass_MT5Indicator()  # MT5指标Python版\n",
    "myMT5Report = MyMql.MyClass_StratTestReport(AddFigure=False)  # MT5策略报告类\n",
    "myMT5Lots_Fix = MyMql.MyClass_Lots_FixedLever(connect=False)  # 固定杠杆仓位类\n",
    "myMT5Lots_Dy = MyMql.MyClass_Lots_DyLever(connect=False)  # 浮动杠杆仓位类\n",
    "myMT5run = MyMql.MyClass_RunningMT5()  # Python运行MT5\n",
    "myMT5code = MyMql.MyClass_CodeMql5()  # Python生成MT5代码\n",
    "myMoneyM = MyTrade.MyClass_MoneyManage()  # 资金管理类\n",
    "# myDefault.set_backend_default(\"Pycharm\")  # Pycharm下需要plt.show()才显示图\n",
    "# ------------------------------------------------------------\n",
    "# 弹出窗显示必须加上：%matplotlib auto\n",
    "# 控制台显示必须加上：%matplotlib inline\n",
    "%matplotlib inline\n",
    "import warnings\n",
    "warnings.filterwarnings('ignore')\n"
   ],
   "metadata": {
    "collapsed": false,
    "pycharm": {
     "name": "#%%\n"
    }
   }
  },
  {
   "cell_type": "code",
   "execution_count": 3,
   "outputs": [],
   "source": [
    "symbol_list =['EURUSD','GBPUSD','AUDUSD','NZDUSD','USDJPY','USDCAD','USDCHF','XAUUSD','XAGUSD'] # myMT5Pro.get_main_symbol_name_list()\n",
    "timeframe_list = [\"TIMEFRAME_D1\",\"TIMEFRAME_H12\",\"TIMEFRAME_H8\",\"TIMEFRAME_H6\",\n",
    "                  \"TIMEFRAME_H4\",\"TIMEFRAME_H3\",\"TIMEFRAME_H2\",\"TIMEFRAME_H1\",\n",
    "                  \"TIMEFRAME_M30\",\"TIMEFRAME_M20\",\"TIMEFRAME_M15\",\"TIMEFRAME_M12\",\n",
    "                  \"TIMEFRAME_M10\",\"TIMEFRAME_M6\",\"TIMEFRAME_M5\",\"TIMEFRAME_M4\",\n",
    "                  \"TIMEFRAME_M3\",\"TIMEFRAME_M2\",\"TIMEFRAME_M1\"]\n",
    "symbol = \"EURUSD\"\n",
    "timeframe = \"TIMEFRAME_D1\"\n",
    "date_from, date_to = myMT5Pro.get_date_range(timeframe)\n",
    "data_total = myMT5Pro.getsymboldata(symbol, timeframe, date_from, date_to, index_time=True, col_capitalize=True)\n",
    "data_train, data_test = myMT5Pro.get_train_test(data_total, train_scale=0.8)\n"
   ],
   "metadata": {
    "collapsed": false,
    "pycharm": {
     "name": "#%%\n"
    }
   }
  },
  {
   "cell_type": "code",
   "execution_count": 5,
   "outputs": [
    {
     "data": {
      "text/plain": "<Figure size 432x288 with 1 Axes>",
      "image/png": "[encoded data removed]"
     },
     "metadata": {
      "needs_background": "light"
     },
     "output_type": "display_data"
    }
   ],
   "source": [
    "# ---波动率分析\n",
    "data_vola = data_total[\"Range\"] # 只有range波动才有自相关性，且周期为D1\n",
    "# data_vola = myMT5Indi.ATR(data_total, InpAtrPeriod=1)\n",
    "# data_vola = data_total[\"Close\"] - data_total[\"Open\"]\n",
    "# data_vola = np.power(data_vola,2)\n",
    "# 自相关性分析\n",
    "# myDA.tsa_auto_test(data_range)\n",
    "# acf = myDA.tsa.tsa_acf(data_range, nlags=60)\n",
    "myDA.tsa.tsa_acf(data_vola, nlags=100, plot=True)\n",
    "\n",
    "# 偏相关性\n",
    "# myDA.tsa.tsa_pacf(data_vola,nlags=100,plot=True)\n",
    "\n",
    "# ---序列自相关系数分析：1期波动与其滞后的相关系数曲线\n",
    "# myDA.tsa.plot_selfcorrelation(data_vola,count=100)"
   ],
   "metadata": {
    "collapsed": false,
    "pycharm": {
     "name": "#%%\n"
    }
   }
  },
  {
   "cell_type": "code",
   "execution_count": null,
   "outputs": [],
   "source": [],
   "metadata": {
    "collapsed": false,
    "pycharm": {
     "name": "#%%\n"
    }
   }
  }
 ],
 "metadata": {
  "kernelspec": {
   "display_name": "Python 3",
   "language": "python",
   "name": "python3"
  },
  "language_info": {
   "codemirror_mode": {
    "name": "ipython",
    "version": 2
   },
   "file_extension": ".py",
   "mimetype": "text/x-python",
   "name": "python",
   "nbconvert_exporter": "python",
   "pygments_lexer": "ipython2",
   "version": "2.7.6"
  }
 },
 "nbformat": 4,
 "nbformat_minor": 0
}